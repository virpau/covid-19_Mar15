{
 "cells": [
  {
   "cell_type": "code",
   "execution_count": 1,
   "metadata": {},
   "outputs": [],
   "source": [
    "import pandas as pd\n",
    "import numpy as np\n",
    "import matplotlib.pyplot as plt\n",
    "from zipfile import ZipFile\n",
    "import datetime as dt"
   ]
  },
  {
   "cell_type": "code",
   "execution_count": 2,
   "metadata": {},
   "outputs": [
    {
     "data": {
      "text/html": [
       "<div>\n",
       "<style scoped>\n",
       "    .dataframe tbody tr th:only-of-type {\n",
       "        vertical-align: middle;\n",
       "    }\n",
       "\n",
       "    .dataframe tbody tr th {\n",
       "        vertical-align: top;\n",
       "    }\n",
       "\n",
       "    .dataframe thead th {\n",
       "        text-align: right;\n",
       "    }\n",
       "</style>\n",
       "<table border=\"1\" class=\"dataframe\">\n",
       "  <thead>\n",
       "    <tr style=\"text-align: right;\">\n",
       "      <th></th>\n",
       "      <th>ObservationDate</th>\n",
       "      <th>Province/State</th>\n",
       "      <th>Country/Region</th>\n",
       "      <th>Last Update</th>\n",
       "      <th>Confirmed</th>\n",
       "      <th>Deaths</th>\n",
       "      <th>Recovered</th>\n",
       "    </tr>\n",
       "    <tr>\n",
       "      <th>SNo</th>\n",
       "      <th></th>\n",
       "      <th></th>\n",
       "      <th></th>\n",
       "      <th></th>\n",
       "      <th></th>\n",
       "      <th></th>\n",
       "      <th></th>\n",
       "    </tr>\n",
       "  </thead>\n",
       "  <tbody>\n",
       "    <tr>\n",
       "      <td>4509</td>\n",
       "      <td>03/09/2020</td>\n",
       "      <td>Northern Territory</td>\n",
       "      <td>Australia</td>\n",
       "      <td>2020-03-06T04:33:03</td>\n",
       "      <td>0.0</td>\n",
       "      <td>0.0</td>\n",
       "      <td>0.0</td>\n",
       "    </tr>\n",
       "    <tr>\n",
       "      <td>4510</td>\n",
       "      <td>03/09/2020</td>\n",
       "      <td>Lackland, TX (From Diamond Princess)</td>\n",
       "      <td>US</td>\n",
       "      <td>2020-02-24T23:33:02</td>\n",
       "      <td>0.0</td>\n",
       "      <td>0.0</td>\n",
       "      <td>0.0</td>\n",
       "    </tr>\n",
       "    <tr>\n",
       "      <td>4511</td>\n",
       "      <td>03/09/2020</td>\n",
       "      <td>Montgomery County, TX</td>\n",
       "      <td>US</td>\n",
       "      <td>2020-03-07T19:53:02</td>\n",
       "      <td>0.0</td>\n",
       "      <td>0.0</td>\n",
       "      <td>0.0</td>\n",
       "    </tr>\n",
       "    <tr>\n",
       "      <td>4512</td>\n",
       "      <td>03/09/2020</td>\n",
       "      <td>Omaha, NE (From Diamond Princess)</td>\n",
       "      <td>US</td>\n",
       "      <td>2020-02-24T23:33:02</td>\n",
       "      <td>0.0</td>\n",
       "      <td>0.0</td>\n",
       "      <td>0.0</td>\n",
       "    </tr>\n",
       "    <tr>\n",
       "      <td>4513</td>\n",
       "      <td>03/09/2020</td>\n",
       "      <td>Travis, CA (From Diamond Princess)</td>\n",
       "      <td>US</td>\n",
       "      <td>2020-02-24T23:33:02</td>\n",
       "      <td>0.0</td>\n",
       "      <td>0.0</td>\n",
       "      <td>0.0</td>\n",
       "    </tr>\n",
       "  </tbody>\n",
       "</table>\n",
       "</div>"
      ],
      "text/plain": [
       "     ObservationDate                        Province/State Country/Region  \\\n",
       "SNo                                                                         \n",
       "4509      03/09/2020                    Northern Territory      Australia   \n",
       "4510      03/09/2020  Lackland, TX (From Diamond Princess)             US   \n",
       "4511      03/09/2020                 Montgomery County, TX             US   \n",
       "4512      03/09/2020     Omaha, NE (From Diamond Princess)             US   \n",
       "4513      03/09/2020    Travis, CA (From Diamond Princess)             US   \n",
       "\n",
       "              Last Update  Confirmed  Deaths  Recovered  \n",
       "SNo                                                      \n",
       "4509  2020-03-06T04:33:03        0.0     0.0        0.0  \n",
       "4510  2020-02-24T23:33:02        0.0     0.0        0.0  \n",
       "4511  2020-03-07T19:53:02        0.0     0.0        0.0  \n",
       "4512  2020-02-24T23:33:02        0.0     0.0        0.0  \n",
       "4513  2020-02-24T23:33:02        0.0     0.0        0.0  "
      ]
     },
     "execution_count": 2,
     "metadata": {},
     "output_type": "execute_result"
    }
   ],
   "source": [
    "with ZipFile()\n",
    "#Import the data saved in .csv format\n",
    "data= pd.read_csv('CoVid19/covid_19_data.csv',index_col=[0])\n",
    "data.tail(5)"
   ]
  },
  {
   "cell_type": "code",
   "execution_count": 3,
   "metadata": {},
   "outputs": [
    {
     "name": "stdout",
     "output_type": "stream",
     "text": [
      "<class 'pandas.core.frame.DataFrame'>\n",
      "Int64Index: 4513 entries, 1 to 4513\n",
      "Data columns (total 7 columns):\n",
      "ObservationDate    4513 non-null object\n",
      "Province/State     2912 non-null object\n",
      "Country/Region     4513 non-null object\n",
      "Last Update        4513 non-null object\n",
      "Confirmed          4513 non-null float64\n",
      "Deaths             4513 non-null float64\n",
      "Recovered          4513 non-null float64\n",
      "dtypes: float64(3), object(4)\n",
      "memory usage: 282.1+ KB\n"
     ]
    }
   ],
   "source": [
    "#Explore data types and sums of the different types\n",
    "data.info()"
   ]
  },
  {
   "cell_type": "code",
   "execution_count": 4,
   "metadata": {},
   "outputs": [],
   "source": [
    "#Fill NaN, None,'From Diamond Princess' values in Province/State with corresponding country names.\n",
    "#For these observations, we dont know the exact location of the observation,we aggregate on country level\n",
    "data['Province/State'] = (data['Province/State'].replace(np.nan, data['Country/Region']).\n",
    "                          replace('From Diamond Princess', data['Country/Region']).\n",
    "                          replace('Grand Princess Cruise Ship', data['Country/Region']).\n",
    "                          replace('None', data['Country/Region']))"
   ]
  },
  {
   "cell_type": "code",
   "execution_count": 5,
   "metadata": {},
   "outputs": [
    {
     "data": {
      "text/plain": [
       "SNo\n",
       "4509    Northern Territory\n",
       "4510                    TX\n",
       "4511                    TX\n",
       "4512                    NE\n",
       "4513                    CA\n",
       "Name: Province/State, dtype: object"
      ]
     },
     "execution_count": 5,
     "metadata": {},
     "output_type": "execute_result"
    }
   ],
   "source": [
    "#Extracting the state code\n",
    "data['Province/State'] = (data['Province/State'].\n",
    "                          astype(str).apply(lambda x: x.split(' (')[0]).\n",
    "                          apply(lambda x: x.split(', ')[-1]))\n",
    "\n",
    "data['Province/State'].tail()"
   ]
  },
  {
   "cell_type": "code",
   "execution_count": 6,
   "metadata": {},
   "outputs": [
    {
     "data": {
      "text/plain": [
       "(4513, 7)"
      ]
     },
     "execution_count": 6,
     "metadata": {},
     "output_type": "execute_result"
    }
   ],
   "source": [
    "#Create a dictionary of state name abbreviations\n",
    "state_dict = {'D.C.':'District Columbia','AL':'Alabama','AK':'Alaska', 'AZ':'Arizona',\n",
    "              'AR':'Arkansas','CA':'Califonia','CO':'Colorado','CT':'Connecticut',\n",
    "              'FL':'Florida','GA':'Georgia','HI':'Hawaii','IL':'Illinois', \n",
    "              'IN':'Indiana','IA':'Iowa','KS':'Kansas','TX':'Texas', 'NE':'Nebraska',\n",
    "              'KY':'Kentucky','LA':'Louisiana', 'ME':'Maine','MD':'Maryland',\n",
    "              'MA':'Masachusetts', 'MI':'Michigan', 'QC':'Quebec','NV':'Nevada','TN':'Tennessee',\n",
    "              'SC':'South Carolina', 'UT':'Utah','MO':'Missouri','OR ':'Oregon',\n",
    "              'MN':'Minnesota','NH':'New Hmapshire','NJ':'NewJersey','NM':'New Mexico', \n",
    "              'NY':'New York','NC':'North Carolina', 'OH':'Ohio','OK':'Okloahome',\n",
    "              'OR':'Oregon','PA':'Pennsylvia', 'VT':'Vermont','VA':'Virginia',\n",
    "              'WA':'Washington','WV':'West Virginia','WI':'Wisconsir','WY':'Wyoming',\n",
    "              'ON':'Oklahoma','RI':'Rhode Island','Nigeria':'Lagos'}\n",
    "\n",
    "\n",
    "#Replace state abbreciations with fullnames \n",
    "data['Province/State'] = data['Province/State'].replace(state_dict)\n",
    "\n",
    "#Create name abbrevaition dict\n",
    "country_dict = {'US': 'United States','UK': 'United Kingdom'}\n",
    "\n",
    "#Map dictionary of country names\n",
    "data['Country/Region'] = (data['Country/Region'].replace(country_dict)\n",
    "                          .replace('Mainland China','China'))\n",
    "data.shape"
   ]
  },
  {
   "cell_type": "code",
   "execution_count": 7,
   "metadata": {
    "scrolled": true
   },
   "outputs": [
    {
     "name": "stdout",
     "output_type": "stream",
     "text": [
      "\n",
      "\n",
      "Shape of data: (4431, 7)\n",
      "\n",
      "\n"
     ]
    },
    {
     "data": {
      "text/html": [
       "<div>\n",
       "<style scoped>\n",
       "    .dataframe tbody tr th:only-of-type {\n",
       "        vertical-align: middle;\n",
       "    }\n",
       "\n",
       "    .dataframe tbody tr th {\n",
       "        vertical-align: top;\n",
       "    }\n",
       "\n",
       "    .dataframe thead th {\n",
       "        text-align: right;\n",
       "    }\n",
       "</style>\n",
       "<table border=\"1\" class=\"dataframe\">\n",
       "  <thead>\n",
       "    <tr style=\"text-align: right;\">\n",
       "      <th></th>\n",
       "      <th>ObservationDate</th>\n",
       "      <th>Province/State</th>\n",
       "      <th>Country/Region</th>\n",
       "      <th>Last Update</th>\n",
       "      <th>Confirmed</th>\n",
       "      <th>Deaths</th>\n",
       "      <th>Recovered</th>\n",
       "    </tr>\n",
       "    <tr>\n",
       "      <th>SNo</th>\n",
       "      <th></th>\n",
       "      <th></th>\n",
       "      <th></th>\n",
       "      <th></th>\n",
       "      <th></th>\n",
       "      <th></th>\n",
       "      <th></th>\n",
       "    </tr>\n",
       "  </thead>\n",
       "  <tbody>\n",
       "    <tr>\n",
       "      <td>4503</td>\n",
       "      <td>03/09/2020</td>\n",
       "      <td>Pennsylvia</td>\n",
       "      <td>United States</td>\n",
       "      <td>2020-03-06T16:13:15</td>\n",
       "      <td>1.0</td>\n",
       "      <td>0.0</td>\n",
       "      <td>0.0</td>\n",
       "    </tr>\n",
       "    <tr>\n",
       "      <td>4504</td>\n",
       "      <td>03/09/2020</td>\n",
       "      <td>Tennessee</td>\n",
       "      <td>United States</td>\n",
       "      <td>2020-03-05T23:33:03</td>\n",
       "      <td>1.0</td>\n",
       "      <td>0.0</td>\n",
       "      <td>0.0</td>\n",
       "    </tr>\n",
       "    <tr>\n",
       "      <td>4505</td>\n",
       "      <td>03/09/2020</td>\n",
       "      <td>Califonia</td>\n",
       "      <td>United States</td>\n",
       "      <td>2020-03-06T20:13:14</td>\n",
       "      <td>1.0</td>\n",
       "      <td>0.0</td>\n",
       "      <td>0.0</td>\n",
       "    </tr>\n",
       "    <tr>\n",
       "      <td>4506</td>\n",
       "      <td>03/09/2020</td>\n",
       "      <td>Ukraine</td>\n",
       "      <td>Ukraine</td>\n",
       "      <td>2020-03-03T15:33:02</td>\n",
       "      <td>1.0</td>\n",
       "      <td>0.0</td>\n",
       "      <td>0.0</td>\n",
       "    </tr>\n",
       "    <tr>\n",
       "      <td>4507</td>\n",
       "      <td>03/09/2020</td>\n",
       "      <td>Vatican City</td>\n",
       "      <td>Vatican City</td>\n",
       "      <td>2020-03-06T15:43:02</td>\n",
       "      <td>1.0</td>\n",
       "      <td>0.0</td>\n",
       "      <td>0.0</td>\n",
       "    </tr>\n",
       "  </tbody>\n",
       "</table>\n",
       "</div>"
      ],
      "text/plain": [
       "     ObservationDate Province/State Country/Region          Last Update  \\\n",
       "SNo                                                                       \n",
       "4503      03/09/2020     Pennsylvia  United States  2020-03-06T16:13:15   \n",
       "4504      03/09/2020      Tennessee  United States  2020-03-05T23:33:03   \n",
       "4505      03/09/2020      Califonia  United States  2020-03-06T20:13:14   \n",
       "4506      03/09/2020        Ukraine        Ukraine  2020-03-03T15:33:02   \n",
       "4507      03/09/2020   Vatican City   Vatican City  2020-03-06T15:43:02   \n",
       "\n",
       "      Confirmed  Deaths  Recovered  \n",
       "SNo                                 \n",
       "4503        1.0     0.0        0.0  \n",
       "4504        1.0     0.0        0.0  \n",
       "4505        1.0     0.0        0.0  \n",
       "4506        1.0     0.0        0.0  \n",
       "4507        1.0     0.0        0.0  "
      ]
     },
     "execution_count": 7,
     "metadata": {},
     "output_type": "execute_result"
    }
   ],
   "source": [
    "#Retain only observations with confirmed cases\n",
    "data = data[data['Confirmed'] > 0]\n",
    "print('\\n')\n",
    "print(f'Shape of data:', data.shape)\n",
    "print('\\n')\n",
    "data.tail()"
   ]
  },
  {
   "cell_type": "markdown",
   "metadata": {},
   "source": [
    "## Remove Non Country/Region Observations "
   ]
  },
  {
   "cell_type": "code",
   "execution_count": 8,
   "metadata": {},
   "outputs": [
    {
     "data": {
      "text/plain": [
       "(4399, 7)"
      ]
     },
     "execution_count": 8,
     "metadata": {},
     "output_type": "execute_result"
    }
   ],
   "source": [
    "#Certains observations made outside particular country/region such as those from boat cruise are excluded from this analysis\n",
    "data = data[data['Country/Region']!='Others']\n",
    "data.shape"
   ]
  },
  {
   "cell_type": "code",
   "execution_count": 9,
   "metadata": {},
   "outputs": [
    {
     "data": {
      "text/plain": [
       "Index(['ObservationDate', 'Province/State', 'Country/Region', 'Confirmed',\n",
       "       'Deaths', 'Recovered', 'Last Update'],\n",
       "      dtype='object')"
      ]
     },
     "execution_count": 9,
     "metadata": {},
     "output_type": "execute_result"
    }
   ],
   "source": [
    "cols = ['ObservationDate', 'Province/State', 'Country/Region',\n",
    "       'Confirmed', 'Deaths', 'Recovered', 'Last Update']\n",
    "\n",
    "#Rearranging the columns names\n",
    "data = data[cols]\n",
    "data.columns"
   ]
  },
  {
   "cell_type": "code",
   "execution_count": null,
   "metadata": {},
   "outputs": [],
   "source": []
  },
  {
   "cell_type": "code",
   "execution_count": null,
   "metadata": {},
   "outputs": [],
   "source": [
    "#Save cleaned data for vizualization\n",
    "date = pd.Timestamp.today().strftime(f'%d-%m-%Y')\n",
    "\n",
    "data.to_csv(f'CoVid19/covid_data_{date}_cleaned.csv', index=True, header=True)"
   ]
  },
  {
   "cell_type": "code",
   "execution_count": null,
   "metadata": {},
   "outputs": [],
   "source": [
    "data.head()"
   ]
  },
  {
   "cell_type": "code",
   "execution_count": null,
   "metadata": {},
   "outputs": [],
   "source": [
    "#Observation with the maximum number of confirmed cases\n",
    "data[data['Confirmed']==data[data['Country/Region']=='China']['Confirmed'].max()]"
   ]
  },
  {
   "cell_type": "code",
   "execution_count": null,
   "metadata": {
    "scrolled": true
   },
   "outputs": [],
   "source": [
    "data[data['Country/Region']=='Others']"
   ]
  },
  {
   "cell_type": "code",
   "execution_count": null,
   "metadata": {},
   "outputs": [],
   "source": []
  }
 ],
 "metadata": {
  "kernelspec": {
   "display_name": "Python 3",
   "language": "python",
   "name": "python3"
  },
  "language_info": {
   "codemirror_mode": {
    "name": "ipython",
    "version": 3
   },
   "file_extension": ".py",
   "mimetype": "text/x-python",
   "name": "python",
   "nbconvert_exporter": "python",
   "pygments_lexer": "ipython3",
   "version": "3.7.4"
  }
 },
 "nbformat": 4,
 "nbformat_minor": 2
}
